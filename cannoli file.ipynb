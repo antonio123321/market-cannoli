{
 "cells": [
  {
   "cell_type": "markdown",
   "metadata": {},
   "source": [
    "<center>\n",
    "    <img src=\"https://s3-api.us-geo.objectstorage.softlayer.net/cf-courses-data/CognitiveClass/Logos/organization_logo/organization_logo.png\" width=\"300\" alt=\"cognitiveclass.ai logo\"  />\n",
    "</center>\n"
   ]
  },
  {
   "cell_type": "markdown",
   "metadata": {},
   "source": [
    "#### Add your code below following the instructions given in the course\n"
   ]
  },
  {
   "cell_type": "markdown",
   "metadata": {},
   "source": [
    "# Titolo"
   ]
  },
  {
   "cell_type": "markdown",
   "metadata": {},
   "source": [
    "## Vendere i cannoli in manchester"
   ]
  },
  {
   "cell_type": "markdown",
   "metadata": {},
   "source": [
    "As we can all see this days it  has become much more difficult to sell generally things at the local markets around Manchester.  \n",
    "\n",
    "\n",
    "\n",
    "\n",
    ">Looking at this current situation i have now decided to start  a course in computer \n",
    "science    "
   ]
  },
  {
   "cell_type": "markdown",
   "metadata": {},
   "source": [
    "<br>"
   ]
  },
  {
   "cell_type": "markdown",
   "metadata": {},
   "source": [
    ">What i like the most about me is that i can change things in my life very easily"
   ]
  },
  {
   "cell_type": "markdown",
   "metadata": {},
   "source": [
    "`I`Will `definitly `be `sucsessfull"
   ]
  },
  {
   "cell_type": "markdown",
   "metadata": {},
   "source": [
    "- Work\n",
    "   - Cannoli/market\n",
    "   -restaurant\n",
    "   \n",
    "- Study\n",
    "   - Courseira\n",
    "   - university/college"
   ]
  },
  {
   "cell_type": "markdown",
   "metadata": {},
   "source": [
    "<br>"
   ]
  },
  {
   "cell_type": "markdown",
   "metadata": {},
   "source": [
    "|    Work    |    Study    |    free time    |\n",
    "| ------ | ------- | ------- |\n",
    "| restaurant | college | tuska |\n",
    "| market | university | guitar |\n",
    "| bho| Courseira | Friends |\n"
   ]
  },
  {
   "cell_type": "markdown",
   "metadata": {},
   "source": [
    "[^1] : cannoli image"
   ]
  },
  {
   "cell_type": "markdown",
   "metadata": {},
   "source": [
    "![cannoli image](\thttps://reallygreatfood.com/wp-content/uploads/2017/03/cannolishells-1500x1000.jpg\n",
    ")"
   ]
  },
  {
   "cell_type": "markdown",
   "metadata": {},
   "source": [
    "![cannoli image 2](\thttps://www.falconsales.co.uk/images/img-577-luten%20Free%20Cannoli%20photo%20(group).jpg)"
   ]
  },
  {
   "cell_type": "markdown",
   "metadata": {},
   "source": [
    "<a href=\"http://www.youtube.com/watch?feature=player_embedded&v=YOUTUBE_VIDEO_ID_HERE\n",
    "\" target=\"_blank\"><img src=\"http://img.youtube.com/vi/YOUTUBE_VIDEO_ID_HERE/0.jpg\" \n",
    "alt=\"IMAGE ALT TEXT HERE\" width=\"240\" height=\"180\" border=\"10\" /></a>"
   ]
  },
  {
   "cell_type": "markdown",
   "metadata": {},
   "source": [
    "video(https://www.youtube.com/watch?v=hGU5c_QUHAM&t=227s)"
   ]
  },
  {
   "cell_type": "code",
   "execution_count": null,
   "metadata": {},
   "outputs": [],
   "source": []
  }
 ],
 "metadata": {
  "kernelspec": {
   "display_name": "Python",
   "language": "python",
   "name": "conda-env-python-py"
  },
  "language_info": {
   "codemirror_mode": {
    "name": "ipython",
    "version": 3
   },
   "file_extension": ".py",
   "mimetype": "text/x-python",
   "name": "python",
   "nbconvert_exporter": "python",
   "pygments_lexer": "ipython3",
   "version": "3.7.12"
  }
 },
 "nbformat": 4,
 "nbformat_minor": 4
}
